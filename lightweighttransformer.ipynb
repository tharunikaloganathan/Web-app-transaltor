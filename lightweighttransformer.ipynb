!pip install torch==1.8.1+cu111 torchvision==0.9.1+cu111 torchaudio===0.8.1 -f https://download.pytorch.org/whl/lts/1.8/torch_lts.html
!pip install transformers ipywidgets gradio --upgrade
import gradio as gr                   # UI library
from transformers import pipeline     # Transformers pipeline
